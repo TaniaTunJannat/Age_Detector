{
 "cells": [
  {
   "cell_type": "code",
   "execution_count": 3,
   "metadata": {},
   "outputs": [],
   "source": [
    "import numpy as np\n",
    "import pandas as pd\n",
    "from sklearn.metrics import mean_squared_error\n",
    "from sklearn.linear_model import LinearRegression\n",
    "from sklearn.tree import DecisionTreeRegressor\n",
    "import matplotlib.pyplot as plt"
   ]
  },
  {
   "cell_type": "code",
   "execution_count": 4,
   "metadata": {},
   "outputs": [],
   "source": [
    "dataset=pd.read_csv(r\"C:\\Users\\yjkkkk\\Desktop\\ML-Project\\Age_detector_170103020007_170103020049.csv\")"
   ]
  },
  {
   "cell_type": "code",
   "execution_count": 5,
   "metadata": {},
   "outputs": [
    {
     "name": "stdout",
     "output_type": "stream",
     "text": [
      "[[  1.   76.1  10.2]\n",
      " [  2.   85.6  12.3]\n",
      " [  3.   94.9  14.6]\n",
      " [  4.  102.9  16.7]\n",
      " [  5.  109.9  18.7]\n",
      " [  6.  116.1  20.7]\n",
      " [  7.  121.7  22.9]\n",
      " [  8.  127.   25.3]\n",
      " [  9.  132.2  28.1]\n",
      " [ 10.  137.5  31.4]\n",
      " [ 11.  140.   32.2]\n",
      " [ 12.  147.   37. ]\n",
      " [ 13.  156.2  45.3]\n",
      " [ 14.  163.8  50.8]\n",
      " [ 15.  170.1  56. ]\n",
      " [ 16.  173.4  60.8]\n",
      " [ 17.  175.2  64.4]\n",
      " [ 18.  175.7  66.9]\n",
      " [ 19.  176.5  68.9]\n",
      " [ 20.  177.   70.3]\n",
      " [  1.   75.    9.5]\n",
      " [  2.   84.5  11.8]\n",
      " [  3.   93.9  14.1]\n",
      " [  4.  101.6  16. ]\n",
      " [  5.  108.4  17.7]\n",
      " [  6.  114.6  19.5]\n",
      " [  7.  120.6  21.8]\n",
      " [  8.  126.4  24.8]\n",
      " [  9.  132.2  28.5]\n",
      " [ 10.  138.3  32.5]\n",
      " [ 11.  142.   33.7]\n",
      " [ 12.  148.   38.7]\n",
      " [ 13.  149.8  40.8]\n",
      " [ 14.  162.6  47.9]\n",
      " [ 15.  166.5  58.9]\n",
      " [ 16.  174.   63.5]\n",
      " [ 17.  176.5  66. ]\n",
      " [ 18.  176.   67.2]\n",
      " [ 19.  177.8  70.5]\n",
      " [ 20.  177.8  70.5]\n",
      " [  1.   75.7   9.6]\n",
      " [  2.   85.8  12.5]\n",
      " [  3.   95.2  14. ]\n",
      " [  4.  102.3  16.3]\n",
      " [  5.  109.2  18.4]\n",
      " [  6.  115.5  20.6]\n",
      " [  7.  121.9  22.9]\n",
      " [  8.  128.   25.5]\n",
      " [  9.  133.3  28.6]\n",
      " [ 10.  138.4  32. ]\n",
      " [ 11.  143.5  35.6]\n",
      " [ 12.  149.1  39.9]\n",
      " [ 13.  156.7  45.8]\n",
      " [ 14.  158.7  47.6]\n",
      " [ 15.  159.7  52.1]\n",
      " [ 16.  162.5  53.5]\n",
      " [ 17.  162.5  54.4]\n",
      " [ 18.  163.   56.7]\n",
      " [ 19.  163.   57.1]\n",
      " [ 20.  163.3  58. ]\n",
      " [ 20.  163.1  55. ]\n",
      " [  1.   72.5   7.8]\n",
      " [  2.   80.1   9.6]\n",
      " [  3.   87.2  11.2]\n",
      " [  4.   94.5  12.9]\n",
      " [  5.  101.4  14.5]\n",
      " [  6.  107.4  16. ]\n",
      " [  7.  112.8  17.6]\n",
      " [  8.  118.2  19.4]\n",
      " [  9.  122.9  21.3]\n",
      " [ 10.  123.9  23.3]\n",
      " [ 11.  145.   37.2]\n",
      " [ 12.  150.   42.5]\n",
      " [ 13.  154.   44.8]\n",
      " [ 14.  159.5  49.5]\n",
      " [ 15.  160.8  53.5]\n",
      " [ 16.  163.5  55.8]\n",
      " [ 17.  164.2  57.8]\n",
      " [ 18.  165.   60. ]\n",
      " [ 19.  165.   60. ]\n",
      " [ 20.  165.5  61.5]\n",
      " [  1.   75.7   7.8]\n",
      " [  2.   87.7  12.7]\n",
      " [  3.   95.3  14.4]\n",
      " [  4.  102.5  16.3]\n",
      " [  5.  109.2  18.5]\n",
      " [  6.  116.8  20.5]\n",
      " [  7.  122.8  24.8]\n",
      " [  8.  129.5  27.8]\n",
      " [  9.  134.8  29.8]\n",
      " [ 10.  138.8  32. ]\n",
      " [ 11.  144.8  37.2]\n",
      " [ 12.  149.5  40.8]\n",
      " [ 13.  157.7  46.8]\n",
      " [ 14.  158.8  47.9]\n",
      " [ 15.  160.   50.8]\n",
      " [ 16.  163.8  56. ]\n",
      " [ 17.  164.8  57.9]\n",
      " [ 18.  165.5  60.5]\n",
      " [ 19.  165.8  61.5]\n",
      " [ 20.  166.   62.5]]\n"
     ]
    }
   ],
   "source": [
    "print(np.array(dataset))"
   ]
  },
  {
   "cell_type": "code",
   "execution_count": 6,
   "metadata": {},
   "outputs": [
    {
     "name": "stdout",
     "output_type": "stream",
     "text": [
      "[[ 76.1  10.2]\n",
      " [ 85.6  12.3]\n",
      " [ 94.9  14.6]\n",
      " [102.9  16.7]\n",
      " [109.9  18.7]\n",
      " [116.1  20.7]\n",
      " [121.7  22.9]\n",
      " [127.   25.3]\n",
      " [132.2  28.1]\n",
      " [137.5  31.4]\n",
      " [140.   32.2]\n",
      " [147.   37. ]\n",
      " [156.2  45.3]\n",
      " [163.8  50.8]\n",
      " [170.1  56. ]\n",
      " [173.4  60.8]\n",
      " [175.2  64.4]\n",
      " [175.7  66.9]\n",
      " [176.5  68.9]\n",
      " [177.   70.3]\n",
      " [ 75.    9.5]\n",
      " [ 84.5  11.8]\n",
      " [ 93.9  14.1]\n",
      " [101.6  16. ]\n",
      " [108.4  17.7]\n",
      " [114.6  19.5]\n",
      " [120.6  21.8]\n",
      " [126.4  24.8]\n",
      " [132.2  28.5]\n",
      " [138.3  32.5]\n",
      " [142.   33.7]\n",
      " [148.   38.7]\n",
      " [149.8  40.8]\n",
      " [162.6  47.9]\n",
      " [166.5  58.9]\n",
      " [174.   63.5]\n",
      " [176.5  66. ]\n",
      " [176.   67.2]\n",
      " [177.8  70.5]\n",
      " [177.8  70.5]\n",
      " [ 75.7   9.6]\n",
      " [ 85.8  12.5]\n",
      " [ 95.2  14. ]\n",
      " [102.3  16.3]\n",
      " [109.2  18.4]\n",
      " [115.5  20.6]\n",
      " [121.9  22.9]\n",
      " [128.   25.5]\n",
      " [133.3  28.6]\n",
      " [138.4  32. ]\n",
      " [143.5  35.6]\n",
      " [149.1  39.9]\n",
      " [156.7  45.8]\n",
      " [158.7  47.6]\n",
      " [159.7  52.1]\n",
      " [162.5  53.5]\n",
      " [162.5  54.4]\n",
      " [163.   56.7]\n",
      " [163.   57.1]\n",
      " [163.3  58. ]\n",
      " [163.1  55. ]\n",
      " [ 72.5   7.8]\n",
      " [ 80.1   9.6]\n",
      " [ 87.2  11.2]\n",
      " [ 94.5  12.9]\n",
      " [101.4  14.5]\n",
      " [107.4  16. ]\n",
      " [112.8  17.6]\n",
      " [118.2  19.4]\n",
      " [122.9  21.3]\n",
      " [123.9  23.3]\n",
      " [145.   37.2]\n",
      " [150.   42.5]\n",
      " [154.   44.8]\n",
      " [159.5  49.5]\n",
      " [160.8  53.5]\n",
      " [163.5  55.8]\n",
      " [164.2  57.8]\n",
      " [165.   60. ]\n",
      " [165.   60. ]\n",
      " [165.5  61.5]\n",
      " [ 75.7   7.8]\n",
      " [ 87.7  12.7]\n",
      " [ 95.3  14.4]\n",
      " [102.5  16.3]\n",
      " [109.2  18.5]\n",
      " [116.8  20.5]\n",
      " [122.8  24.8]\n",
      " [129.5  27.8]\n",
      " [134.8  29.8]\n",
      " [138.8  32. ]\n",
      " [144.8  37.2]\n",
      " [149.5  40.8]\n",
      " [157.7  46.8]\n",
      " [158.8  47.9]\n",
      " [160.   50.8]\n",
      " [163.8  56. ]\n",
      " [164.8  57.9]\n",
      " [165.5  60.5]\n",
      " [165.8  61.5]\n",
      " [166.   62.5]]\n"
     ]
    }
   ],
   "source": [
    "train_data=np.array(dataset.drop(\"Age\",axis=1))\n",
    "print(train_data)"
   ]
  },
  {
   "cell_type": "code",
   "execution_count": 7,
   "metadata": {},
   "outputs": [
    {
     "name": "stdout",
     "output_type": "stream",
     "text": [
      "[ 1  2  3  4  5  6  7  8  9 10 11 12 13 14 15 16 17 18 19 20  1  2  3  4\n",
      "  5  6  7  8  9 10 11 12 13 14 15 16 17 18 19 20  1  2  3  4  5  6  7  8\n",
      "  9 10 11 12 13 14 15 16 17 18 19 20 20  1  2  3  4  5  6  7  8  9 10 11\n",
      " 12 13 14 15 16 17 18 19 20  1  2  3  4  5  6  7  8  9 10 11 12 13 14 15\n",
      " 16 17 18 19 20]\n"
     ]
    },
    {
     "data": {
      "image/png": "[encoded data removed]",
      "text/plain": [
       "<Figure size 432x288 with 1 Axes>"
      ]
     },
     "metadata": {
      "needs_background": "light"
     },
     "output_type": "display_data"
    }
   ],
   "source": [
    "labels=np.array(dataset['Age'].copy())\n",
    "print(labels)\n",
    "\n",
    "plt.scatter(train_data[:,0],train_data[:,1],labels)\n",
    "plt.plot(train_data[:,0],train_data[:,1],labels, color='red')\n",
    "plt.show()"
   ]
  },
  {
   "cell_type": "code",
   "execution_count": 18,
   "metadata": {},
   "outputs": [
    {
     "name": "stdout",
     "output_type": "stream",
     "text": [
      "[ 1.47198109  2.54902473  3.64844646  4.61660126  5.4937152   6.31275509\n",
      "  7.12513605  7.95263584  8.84666959  9.84020409 10.1692719  11.56293827\n",
      " 13.76199882 15.32835884 16.74500363 17.87007753 18.66488299 19.1623868\n",
      " 19.58942687 19.88399937  1.26299117  2.37693141  3.4836124   4.39309283\n",
      "  5.20034335  5.98248664  6.84235292  7.8168388   8.92046279 10.10120945\n",
      " 10.59118154 11.94915195 12.46723289 14.70624703 17.01867115 18.4117372\n",
      " 19.05442613 19.23950947 19.97897002 19.97897002  1.33225426  2.60043985\n",
      "  3.55953442  4.49925252  5.3875555   6.25075125  7.13965456  8.06212501\n",
      "  9.01876291 10.0162272  11.0505881  12.25038338 13.89053661 14.36779115\n",
      " 15.27055726 15.73209265 15.89812736 16.35873457 16.43252777 16.62034025\n",
      " 16.0523727   0.76788865  1.65166152  2.46224151  3.30578832  4.10184979\n",
      "  4.81412967  5.50130231  6.22537155  6.9170743   7.35863289 11.45464976\n",
      " 12.79537252 13.51005369 14.77638292 15.6086853  16.22899614 16.64877695\n",
      " 17.11271363 17.11271363 17.42573443  1.00018484  2.77526231  3.64058688\n",
      "  4.51377103  5.40600381  6.32667328  7.55550559  8.59532477  9.34903136\n",
      " 10.04526423 11.44013125 12.44545512 14.14761218 14.43039531 15.05250712\n",
      " 16.28767051 16.71078079 17.24125141 17.44751219 17.64651372]\n"
     ]
    },
    {
     "data": {
      "image/png": "[encoded data removed]",
      "text/plain": [
       "<Figure size 432x288 with 1 Axes>"
      ]
     },
     "metadata": {
      "needs_background": "light"
     },
     "output_type": "display_data"
    }
   ],
   "source": [
    "# firstly using Linear Regression:\n",
    "y=LinearRegression()\n",
    "y.fit(train_data,labels)\n",
    "x=y.predict(train_data)\n",
    "print(x)\n",
    "\n",
    "plt.scatter(train_data[:,0],train_data[:,1],x)\n",
    "plt.plot(train_data[:,0],train_data[:,1],x, color='red')\n",
    "plt.show()\n"
   ]
  },
  {
   "cell_type": "code",
   "execution_count": 19,
   "metadata": {},
   "outputs": [
    {
     "name": "stdout",
     "output_type": "stream",
     "text": [
      "1.0908795384144094\n"
     ]
    },
    {
     "data": {
      "text/plain": [
       "[<matplotlib.lines.Line2D at 0x196f2d1fe10>]"
      ]
     },
     "execution_count": 19,
     "metadata": {},
     "output_type": "execute_result"
    },
    {
     "data": {
      "image/png": "[encoded data removed]",
      "text/plain": [
       "<Figure size 432x288 with 1 Axes>"
      ]
     },
     "metadata": {
      "needs_background": "light"
     },
     "output_type": "display_data"
    }
   ],
   "source": [
    "er=np.sqrt(mean_squared_error(labels,x))\n",
    "print(er)\n",
    "plt.plot(er)"
   ]
  },
  {
   "cell_type": "code",
   "execution_count": 20,
   "metadata": {},
   "outputs": [
    {
     "name": "stdout",
     "output_type": "stream",
     "text": [
      "[27.0327737   5.50130231  6.22537155  6.9170743 ]\n"
     ]
    }
   ],
   "source": [
    "new_data= [\n",
    "    [200,100],\n",
    "    [112.8 , 17.6],\n",
    "    [118.2,  19.4],\n",
    "    [122.9 , 21.3]\n",
    "    \n",
    "]\n",
    "res=y.predict(np.array(new_data))\n",
    "print(res)"
   ]
  },
  {
   "cell_type": "code",
   "execution_count": 21,
   "metadata": {},
   "outputs": [
    {
     "name": "stdout",
     "output_type": "stream",
     "text": [
      "[ 1.   2.   3.   4.   5.   6.   7.   8.   9.  10.  11.  12.  13.  14.\n",
      " 15.  16.  17.  18.  19.  20.   1.   2.   3.   4.   5.   6.   7.   8.\n",
      "  9.  10.  11.  12.  13.  14.  15.  16.  17.  18.  19.5 19.5  1.   2.\n",
      "  3.   4.   5.   6.   7.   8.   9.  10.  11.  12.  13.  14.  15.  16.\n",
      " 17.  18.  19.  20.  20.   1.   2.   3.   4.   5.   6.   7.   8.   9.\n",
      " 10.  11.  12.  13.  14.  15.  16.  17.  18.5 18.5 20.   1.   2.   3.\n",
      "  4.   5.   6.   7.   8.   9.  10.  11.  12.  13.  14.  15.  16.  17.\n",
      " 18.  19.  20. ]\n"
     ]
    }
   ],
   "source": [
    "# Secondly using the decision tree\n",
    "xx=DecisionTreeRegressor()\n",
    "xx.fit(train_data,labels)\n",
    "y=xx.predict(train_data)\n",
    "print(y)"
   ]
  },
  {
   "cell_type": "code",
   "execution_count": 23,
   "metadata": {},
   "outputs": [
    {
     "name": "stdout",
     "output_type": "stream",
     "text": [
      "0.09950371902099892\n"
     ]
    },
    {
     "data": {
      "text/plain": [
       "[<matplotlib.lines.Line2D at 0x196f2dd7390>]"
      ]
     },
     "execution_count": 23,
     "metadata": {},
     "output_type": "execute_result"
    },
    {
     "data": {
      "image/png": "[encoded data removed]",
      "text/plain": [
       "<Figure size 432x288 with 1 Axes>"
      ]
     },
     "metadata": {
      "needs_background": "light"
     },
     "output_type": "display_data"
    }
   ],
   "source": [
    "er=np.sqrt(mean_squared_error(labels,y))\n",
    "print(er)\n",
    "\n",
    "plt.plot(er)"
   ]
  },
  {
   "cell_type": "code",
   "execution_count": 24,
   "metadata": {},
   "outputs": [
    {
     "name": "stdout",
     "output_type": "stream",
     "text": [
      "[19.5  7.   8.   9. ]\n"
     ]
    }
   ],
   "source": [
    "new_data=[\n",
    "    [200,100],\n",
    "    [112.8 , 17.6],\n",
    "     [118.2,  19.4],\n",
    "     [122.9 , 21.3]\n",
    "\n",
    "]\n",
    "res=xx.predict(np.array(new_data))\n",
    "print(res)"
   ]
  },
  {
   "cell_type": "code",
   "execution_count": null,
   "metadata": {},
   "outputs": [],
   "source": []
  },
  {
   "cell_type": "code",
   "execution_count": null,
   "metadata": {},
   "outputs": [],
   "source": []
  },
  {
   "cell_type": "code",
   "execution_count": null,
   "metadata": {},
   "outputs": [],
   "source": []
  }
 ],
 "metadata": {
  "kernelspec": {
   "display_name": "Python 3",
   "language": "python",
   "name": "python3"
  },
  "language_info": {
   "codemirror_mode": {
    "name": "ipython",
    "version": 3
   },
   "file_extension": ".py",
   "mimetype": "text/x-python",
   "name": "python",
   "nbconvert_exporter": "python",
   "pygments_lexer": "ipython3",
   "version": "3.7.3"
  }
 },
 "nbformat": 4,
 "nbformat_minor": 2
}
